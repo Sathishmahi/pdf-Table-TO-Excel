{
 "cells": [
  {
   "cell_type": "code",
   "execution_count": 1,
   "metadata": {},
   "outputs": [],
   "source": [
    "import os,zipfile"
   ]
  },
  {
   "cell_type": "code",
   "execution_count": 8,
   "metadata": {},
   "outputs": [],
   "source": [
    "path=\"/config/workspace/artifact/teble_detector/table_images\"\n",
    "with zipfile.ZipFile(\"out.zip\",\"w\",zipfile.ZIP_DEFLATED) as zf:\n",
    "    for fol,_,fn in os.walk(path):\n",
    "        for f in fn:\n",
    "                source_path = os.path.join(fol,f)\n",
    "                rel_path  = os.path.relpath(source_path,path)\n",
    "                zf.write(source_path,rel_path)"
   ]
  },
  {
   "cell_type": "code",
   "execution_count": 9,
   "metadata": {},
   "outputs": [],
   "source": [
    "with zipfile.ZipFile(\"out.zip\",\"r\") as z:\n",
    "    z.extractall(\"out\")"
   ]
  },
  {
   "cell_type": "code",
   "execution_count": 14,
   "metadata": {},
   "outputs": [
    {
     "data": {
      "text/plain": [
       "106"
      ]
     },
     "execution_count": 14,
     "metadata": {},
     "output_type": "execute_result"
    }
   ],
   "source": [
    "os.path.getsize(\"out_1.zip\")"
   ]
  },
  {
   "cell_type": "code",
   "execution_count": 1,
   "metadata": {},
   "outputs": [],
   "source": [
    "import cv2,os"
   ]
  },
  {
   "cell_type": "code",
   "execution_count": 4,
   "metadata": {},
   "outputs": [
    {
     "name": "stdout",
     "output_type": "stream",
     "text": [
      "(410, 146, 3)\n",
      "(499, 224, 3)\n",
      "(411, 41, 3)\n",
      "(338, 328, 3)\n",
      "(459, 3, 3)\n",
      "(499, 224, 3)\n",
      "(459, 3, 3)\n",
      "(338, 328, 3)\n",
      "(410, 146, 3)\n",
      "(411, 41, 3)\n"
     ]
    }
   ],
   "source": [
    "path=\"/config/workspace/artifact/teble_detector/table_images\"\n",
    "for i in os.listdir(path=path):\n",
    "    print(cv2.imread(os.path.join(path,i)).shape)"
   ]
  },
  {
   "cell_type": "code",
   "execution_count": null,
   "metadata": {},
   "outputs": [],
   "source": []
  }
 ],
 "metadata": {
  "kernelspec": {
   "display_name": "Python 3.10.12 64-bit ('venv')",
   "language": "python",
   "name": "python3"
  },
  "language_info": {
   "codemirror_mode": {
    "name": "ipython",
    "version": 3
   },
   "file_extension": ".py",
   "mimetype": "text/x-python",
   "name": "python",
   "nbconvert_exporter": "python",
   "pygments_lexer": "ipython3",
   "version": "3.10.12"
  },
  "orig_nbformat": 4,
  "vscode": {
   "interpreter": {
    "hash": "1762875d695c3b8ce31fc2c385c40c45ae7c7b01a87f50658d419512c57bca88"
   }
  }
 },
 "nbformat": 4,
 "nbformat_minor": 2
}
